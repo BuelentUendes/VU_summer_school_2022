{
 "cells": [
  {
   "cell_type": "markdown",
   "id": "b9d0e355",
   "metadata": {},
   "source": [
    "# Playground Q-learning Mountain Car"
   ]
  },
  {
   "cell_type": "markdown",
   "id": "39dd134c",
   "metadata": {},
   "source": [
    "### Author: Buelent Uendes "
   ]
  },
  {
   "cell_type": "markdown",
   "id": "9db66636",
   "metadata": {},
   "source": [
    "This is an example notebook for one of the workshops regarding Reinforcement learning at the VU summer school 2022. "
   ]
  },
  {
   "cell_type": "code",
   "execution_count": 2,
   "id": "3833d796",
   "metadata": {},
   "outputs": [],
   "source": [
    "import gym\n",
    "import numpy as np\n",
    "import time\n",
    "import matplotlib.pyplot as plt\n",
    "from IPython.display import clear_output\n",
    "import time"
   ]
  },
  {
   "cell_type": "markdown",
   "id": "4d09954c",
   "metadata": {},
   "source": [
    "# Let's create the environment first\n"
   ]
  },
  {
   "cell_type": "code",
   "execution_count": 3,
   "id": "c1a56681",
   "metadata": {},
   "outputs": [
    {
     "data": {
      "text/plain": [
       "[42]"
      ]
     },
     "execution_count": 3,
     "metadata": {},
     "output_type": "execute_result"
    }
   ],
   "source": [
    "env_name = 'MountainCar-v0'\n",
    "env = gym.make(env_name)\n",
    "\n",
    "#Set the seed\n",
    "env.action_space.seed(42)"
   ]
  },
  {
   "cell_type": "markdown",
   "id": "a2f11286",
   "metadata": {},
   "source": [
    "## Let's first checkout some of the properties of the problem "
   ]
  },
  {
   "cell_type": "code",
   "execution_count": 4,
   "id": "1b55f945",
   "metadata": {},
   "outputs": [
    {
     "name": "stdout",
     "output_type": "stream",
     "text": [
      "The observation space is  Box([-1.2  -0.07], [0.6  0.07], (2,), float32)\n",
      "The action space is  Discrete(3)\n"
     ]
    }
   ],
   "source": [
    "print('The observation space is ', env.observation_space)\n",
    "print('The action space is ', env.action_space)"
   ]
  },
  {
   "cell_type": "markdown",
   "id": "95952253",
   "metadata": {},
   "source": [
    "In this problem, we have a continous observation space, with discrete action spaces. One way to deal with continous observation space is to discretize the space. Important to reset the environment, use the following command."
   ]
  },
  {
   "cell_type": "markdown",
   "id": "43eaaf17",
   "metadata": {},
   "source": [
    "Important to reset the environment, use the following command:"
   ]
  },
  {
   "cell_type": "code",
   "execution_count": 5,
   "id": "6b9c24b9",
   "metadata": {},
   "outputs": [
    {
     "data": {
      "text/plain": [
       "array([-0.5232211,  0.       ], dtype=float32)"
      ]
     },
     "execution_count": 5,
     "metadata": {},
     "output_type": "execute_result"
    }
   ],
   "source": [
    "#Resets the environment to the start state\n",
    "env.reset()"
   ]
  },
  {
   "cell_type": "code",
   "execution_count": 6,
   "id": "d07d0087",
   "metadata": {},
   "outputs": [
    {
     "data": {
      "text/plain": [
       "(array([-0.5242239 , -0.00100283], dtype=float32), -1.0, False, {})"
      ]
     },
     "execution_count": 6,
     "metadata": {},
     "output_type": "execute_result"
    }
   ],
   "source": [
    "# We can sample a random action from the environment via\n",
    "env.step(env.action_space.sample())"
   ]
  },
  {
   "cell_type": "markdown",
   "id": "2f21fecc",
   "metadata": {},
   "source": [
    "## First step: Random agent"
   ]
  },
  {
   "cell_type": "markdown",
   "id": "ca638e67",
   "metadata": {},
   "source": [
    "It is always a good idea to test out the environment and start to play around. For this purpose, I create an agent that plays the game with random actions."
   ]
  },
  {
   "cell_type": "code",
   "execution_count": 10,
   "id": "1ccf19f7",
   "metadata": {},
   "outputs": [
    {
     "name": "stdout",
     "output_type": "stream",
     "text": [
      "0\n",
      "100\n",
      "200\n",
      "300\n",
      "400\n"
     ]
    }
   ],
   "source": [
    "env = gym.make(env_name)\n",
    "env.reset()\n",
    "for _ in range(500):\n",
    "    if _ % 100 == 0:\n",
    "        print(_)\n",
    "    action = env.step(env.action_space.sample())\n",
    "    env.render()\n",
    "\n",
    "# This will stop the environment after\n",
    "env.close()"
   ]
  },
  {
   "cell_type": "markdown",
   "id": "204ecd9c",
   "metadata": {},
   "source": [
    "## Recap: "
   ]
  },
  {
   "cell_type": "markdown",
   "id": "5f0b9403",
   "metadata": {},
   "source": [
    "As a recap, the main four functions for the environment space are:\n",
    "- **env.reset():** \n",
    "    Resets the environment and obtain initial starting observation\n",
    "- **env.render():** \n",
    "    Visualize the environment. Important Pygame needs to be installed for this\n",
    "- **env.step(action):** \n",
    "    Applies an action to it. It outputes next state, reward, done and info\n",
    "- **env.close():** \n",
    "    Closes the pop-up frame of the visualized environment"
   ]
  },
  {
   "cell_type": "markdown",
   "id": "2427cbbf",
   "metadata": {},
   "source": [
    "## Main problem: Let's learn an agent that uses Q-learning!"
   ]
  },
  {
   "cell_type": "markdown",
   "id": "55d6ec29",
   "metadata": {},
   "source": [
    "In the first step we need to digitize the observation space. Here we want to equally split the space into 19 bins using the function np.digitize. "
   ]
  },
  {
   "cell_type": "code",
   "execution_count": 11,
   "id": "191a5910",
   "metadata": {},
   "outputs": [],
   "source": [
    "low = env.observation_space.low\n",
    "high =env.observation_space.high"
   ]
  },
  {
   "cell_type": "code",
   "execution_count": 12,
   "id": "a14100b5",
   "metadata": {},
   "outputs": [],
   "source": [
    "#You could play around with the bin size!\n",
    "bin_size = 20\n",
    "bin_x = np.linspace(low[0], high[0], bin_size)\n",
    "bin_velocity = np.linspace(low[1], high[1], bin_size)"
   ]
  },
  {
   "cell_type": "markdown",
   "id": "f5cb64f1",
   "metadata": {},
   "source": [
    "We need to keep in mind that we basically have bin_size - 1 number of bins, as no value can be higher or lower than the max or min value for x-position and velocity!"
   ]
  },
  {
   "cell_type": "code",
   "execution_count": 13,
   "id": "d7eeebef",
   "metadata": {},
   "outputs": [],
   "source": [
    "bins = [bin_x, bin_velocity]\n",
    "values = np.random.random((10,2))+5\n",
    "digitized = []\n",
    "\n",
    "for i in range(len(bins)):\n",
    "    digitized.append(np.digitize(values[:,i], bins[i])-1)\n"
   ]
  },
  {
   "cell_type": "code",
   "execution_count": 14,
   "id": "da14c1b5",
   "metadata": {},
   "outputs": [
    {
     "data": {
      "text/plain": [
       "[array([19, 19, 19, 19, 19, 19, 19, 19, 19, 19]),\n",
       " array([19, 19, 19, 19, 19, 19, 19, 19, 19, 19])]"
      ]
     },
     "execution_count": 14,
     "metadata": {},
     "output_type": "execute_result"
    }
   ],
   "source": [
    "digitized"
   ]
  },
  {
   "cell_type": "markdown",
   "id": "43fe4f89",
   "metadata": {},
   "source": [
    "It is important to keep in mind that we do not want to discretize the state space too much, given the GLIE theorem. GLIE theorem stands for 'Greedy in the Limit with Infinite Exploration', which means that the state action pairs Q(s,a) will converge to the optimal ones if all state-action pairs are explored infinitely many times and the policy converges to the greedy one. For this reason, we want to have not too many states and we need to tune the epsilon rate in such a way that it converges to zero."
   ]
  },
  {
   "cell_type": "code",
   "execution_count": 15,
   "id": "2d7f34ed",
   "metadata": {},
   "outputs": [],
   "source": [
    "def discretizing_obs_state(env_name, state, bin_size):\n",
    "    #State incorporates the observation state\n",
    "    #State[0] is x position\n",
    "    #State[1] is y position\n",
    "    \n",
    "    env = gym.make(env_name)\n",
    "    env.reset()\n",
    "    \n",
    "    #Get the low and high values of the environment space\n",
    "    low = env.observation_space.low\n",
    "    high =env.observation_space.high\n",
    "    \n",
    "    #You could play around with the bin size!\n",
    "    bin_size = 20\n",
    "    bin_x = np.linspace(low[0], high[0], bin_size)\n",
    "    bin_velocity = np.linspace(low[1], high[1], bin_size)\n",
    "    \n",
    "    #Append the two bins\n",
    "    bins = [bin_x, bin_velocity]\n",
    "    print(bins)\n",
    "    #Now we can make use of the function np.digitize and bin it\n",
    "    digitized_state = []\n",
    "    \n",
    "    for i in range(len(bins)):\n",
    "        digitized_state.append(np.digitize(state[i], bins[i])-1)\n",
    "    \n",
    "    return digitized_state\n"
   ]
  },
  {
   "cell_type": "code",
   "execution_count": 16,
   "id": "efb0ed1e",
   "metadata": {},
   "outputs": [],
   "source": [
    "def create_Q_table(bin_size, action_space):\n",
    "    state_space = bin_size - 1\n",
    "    return np.zeros((state_space,state_space, action_space))"
   ]
  },
  {
   "cell_type": "markdown",
   "id": "92768c6d",
   "metadata": {},
   "source": [
    "## Now we can put it together and work out a Q learning agent "
   ]
  },
  {
   "cell_type": "code",
   "execution_count": 19,
   "id": "16655903",
   "metadata": {},
   "outputs": [],
   "source": [
    "class QAgent():\n",
    "    \n",
    "    def __init__(self, env_name, discount_rate = 0.95, bin_size = 20):\n",
    "        \n",
    "        #create an environment\n",
    "        self.env_name = env_name\n",
    "        self.env = gym.make(env_name)\n",
    "        \n",
    "        #Set the discount rate\n",
    "        self.discount_rate = discount_rate\n",
    "        \n",
    "        #The algorithm has then 3 different actions\n",
    "        #0: Accelerate to the left\n",
    "        #1: Don't accelerate\n",
    "        #2: Accelerate to the right\n",
    "        self.action_space = range(env.action_space.n)\n",
    "        \n",
    "        #Set the bin size\n",
    "        self.bin_size = bin_size\n",
    "        \n",
    "        #State incorporates the observation state\n",
    "        #State[0] is x position\n",
    "        #State[1] is y position\n",
    "    \n",
    "        #Get the low and high values of the environment space\n",
    "        self.low = self.env.observation_space.low\n",
    "        self.high = self.env.observation_space.high\n",
    "    \n",
    "        #You could play around with the bin size!\n",
    "        bin_x = np.linspace(self.low[0], self.high[0], self.bin_size)\n",
    "        bin_velocity = np.linspace(self.low[1], self.high[1], self.bin_size)\n",
    "    \n",
    "        #Append the two bins\n",
    "        self.bins = [bin_x, bin_velocity]\n",
    "    \n",
    "    def discretize_state(self, state):\n",
    "        #Now we can make use of the function np.digitize and bin it\n",
    "        self.state = state\n",
    "        \n",
    "        #Create an empty state\n",
    "        digitized_state = []\n",
    "    \n",
    "        for i in range(len(self.bins)):\n",
    "            digitized_state.append(np.digitize(self.state[i], self.bins[i])-1)\n",
    "        \n",
    "        #Returns the discretized state from an observation\n",
    "        return digitized_state\n",
    "    \n",
    "    def create_Q_table(self):\n",
    "        self.state_space = self.bin_size - 1\n",
    "        self.Qtable = np.zeros((self.state_space, self.state_space, self.env.action_space.n))\n",
    "\n",
    "    def train(self, simulations, learning_rate = 1, epsilon = 1, adapting_learning_rate = False):\n",
    "        #Initialize variables that keep track of the rewards\n",
    "        \n",
    "        self.rewards = []\n",
    "        self.average_rewards = []\n",
    "        \n",
    "        #Call the Q table function to create a randomly initialized Q table\n",
    "        self.create_Q_table()\n",
    "        \n",
    "        #Initialize the learning rate and the epsilon\n",
    "        self.learning_rate = learning_rate\n",
    "        \n",
    "        #Set minimum epsilon, so here we want a minimum exploration rate of 0.05\n",
    "        self.epsilon_minimum = 0.05\n",
    "        \n",
    "        if adapting_learning_rate:\n",
    "            self.learning_rate = 1\n",
    "        \n",
    "        self.epsilon = epsilon\n",
    "        \n",
    "        for i in range(simulations):\n",
    "            \n",
    "            if i % 5000 == 0:\n",
    "                print(f'Please wait, the algorithm is learning! The current simulation is {i}')\n",
    "            #Initialize the state\n",
    "            state = self.env.reset()\n",
    "        \n",
    "            #Set a variable that flags if an episode has terminated\n",
    "            done = False\n",
    "        \n",
    "            #Discretize the state space\n",
    "            \n",
    "            state = self.discretize_state(state)\n",
    "            \n",
    "            #Set the rewards to 0\n",
    "            total_rewards = 0\n",
    "            \n",
    "            #Loop until an episode has terminated\n",
    "            while not done:\n",
    "                \n",
    "                #Pick an action based on epsilon greedy\n",
    "                #Pick random action\n",
    "                if np.random.uniform(0,1) > 1-self.epsilon:\n",
    "                    #This picks a random action from 0,1,2\n",
    "                    action = np.random.choice(self.action_space)\n",
    "                    \n",
    "                #Pick a greedy action\n",
    "                else:\n",
    "                    action = np.argmax(self.Qtable[state[0],state[1],:])\n",
    "                    \n",
    "                #Now sample the next_state, reward, done and info from the environment\n",
    "                \n",
    "                next_state, reward, done, info = self.env.step(action)\n",
    "                \n",
    "                #Now discretize the next_state\n",
    "                next_state = self.discretize_state(next_state)\n",
    "                \n",
    "                #Adjust Q-values\n",
    "                \n",
    "                #Target value \n",
    "                Q_target = (reward + self.discount_rate*np.max(self.Qtable[next_state[0], next_state[1]]))\n",
    "                \n",
    "                #Calculate the delta\n",
    "                delta = self.learning_rate * (Q_target - self.Qtable[state[0], state[1], action])\n",
    "                \n",
    "                #Update the Q-value\n",
    "                self.Qtable[state[0], state[1], action] = self.Qtable[state[0], state[1], action] + delta\n",
    "                \n",
    "                #Update the reward and the hyperparameters\n",
    "                total_rewards += reward\n",
    "                state = next_state\n",
    "                \n",
    "            #Decay epsilon, here we decay both the epsilon and learning rate with the number of simulations\n",
    "            delta = (self.epsilon - self.epsilon_minimum)/(i+1)\n",
    "            self.epsilon -= delta\n",
    "            if adapting_learning_rate:\n",
    "                self.learning_rate = self.learning_rate/np.sqrt(i)\n",
    "            self.rewards.append(total_rewards)\n",
    "            \n",
    "            #Calculate the average score over 100 episodes\n",
    "            if i % 100 == 0:\n",
    "                self.average_rewards.append(np.mean(self.rewards))\n",
    "                \n",
    "                #Initialize a new reward list, as otherwise the average values would reflect all rewards!\n",
    "                self.rewards = []\n",
    "        \n",
    "        print('The simulation is done!')\n",
    "        \n",
    "    def visualize_rewards(self):\n",
    "        plt.plot(100*(np.arange(len(self.average_rewards))+1), self.average_rewards)\n",
    "        plt.title('Average reward over the past 100 simulations')\n",
    "        plt.xlabel('Number of simulations')\n",
    "        plt.ylabel('Average reward')\n",
    "    \n",
    "    def play_game(self):\n",
    "        #Get the optimized strategy:\n",
    "        done = False\n",
    "        #Start the game\n",
    "        state = self.env.reset()\n",
    "        while not done:\n",
    "            state = self.discretize_state(state)\n",
    "            #Pick the best acction from the saved Qtable\n",
    "            action = np.argmax(self.Qtable[state[0],state[1],:])\n",
    "            next_state, reward, done, info = self.env.step(action)\n",
    "            state = next_state\n",
    "            self.env.render()\n",
    "            #Pause to make it easier to watch\n",
    "            time.sleep(0.05)\n",
    "        #Close the pop-up window\n",
    "        #self.env.close()"
   ]
  },
  {
   "cell_type": "markdown",
   "id": "3223f42b",
   "metadata": {},
   "source": [
    "## Let's run this simulation let's say 15,000 times "
   ]
  },
  {
   "cell_type": "code",
   "execution_count": 20,
   "id": "ec55c60b",
   "metadata": {},
   "outputs": [
    {
     "name": "stdout",
     "output_type": "stream",
     "text": [
      "Please wait, the algorithm is learning! The current simulation is 0\n",
      "Please wait, the algorithm is learning! The current simulation is 5000\n",
      "Please wait, the algorithm is learning! The current simulation is 10000\n",
      "The simulation is done!\n"
     ]
    }
   ],
   "source": [
    "Qagent = QAgent(env_name, bin_size = 20)\n",
    "Qagent.train(15000, learning_rate = 0.1)"
   ]
  },
  {
   "cell_type": "markdown",
   "id": "27573627",
   "metadata": {},
   "source": [
    "## Now we can plot the results "
   ]
  },
  {
   "cell_type": "code",
   "execution_count": 21,
   "id": "cb0838f5",
   "metadata": {},
   "outputs": [
    {
     "data": {
      "image/png": "[encoded data removed]",
      "text/plain": [
       "<Figure size 432x288 with 1 Axes>"
      ]
     },
     "metadata": {
      "needs_background": "light"
     },
     "output_type": "display_data"
    }
   ],
   "source": [
    "Qagent.visualize_rewards()"
   ]
  },
  {
   "cell_type": "markdown",
   "id": "ab0acf56",
   "metadata": {},
   "source": [
    "## Lastly, and finally we want to see if our QAgent learned the problem "
   ]
  },
  {
   "cell_type": "code",
   "execution_count": 27,
   "id": "0dc0e112",
   "metadata": {},
   "outputs": [],
   "source": [
    "Qagent.play_game()"
   ]
  },
  {
   "cell_type": "markdown",
   "id": "c0707f32",
   "metadata": {},
   "source": [
    "Done! Our agent learned via TD control how to solve the mountain car problem!"
   ]
  }
 ],
 "metadata": {
  "kernelspec": {
   "display_name": "Python 3 (ipykernel)",
   "language": "python",
   "name": "python3"
  },
  "language_info": {
   "codemirror_mode": {
    "name": "ipython",
    "version": 3
   },
   "file_extension": ".py",
   "mimetype": "text/x-python",
   "name": "python",
   "nbconvert_exporter": "python",
   "pygments_lexer": "ipython3",
   "version": "3.9.7"
  }
 },
 "nbformat": 4,
 "nbformat_minor": 5
}
